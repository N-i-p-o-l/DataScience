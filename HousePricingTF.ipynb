{
 "cells": [
  {
   "cell_type": "code",
   "execution_count": 1,
   "metadata": {},
   "outputs": [],
   "source": [
    "import numpy as np\n",
    "import pandas as pd\n",
    "import tensorflow as tf"
   ]
  },
  {
   "cell_type": "code",
   "execution_count": 2,
   "metadata": {},
   "outputs": [],
   "source": [
    "df = pd.read_csv('housepricedata.csv')"
   ]
  },
  {
   "cell_type": "code",
   "execution_count": 3,
   "metadata": {},
   "outputs": [
    {
     "data": {
      "text/html": [
       "<div>\n",
       "<style scoped>\n",
       "    .dataframe tbody tr th:only-of-type {\n",
       "        vertical-align: middle;\n",
       "    }\n",
       "\n",
       "    .dataframe tbody tr th {\n",
       "        vertical-align: top;\n",
       "    }\n",
       "\n",
       "    .dataframe thead th {\n",
       "        text-align: right;\n",
       "    }\n",
       "</style>\n",
       "<table border=\"1\" class=\"dataframe\">\n",
       "  <thead>\n",
       "    <tr style=\"text-align: right;\">\n",
       "      <th></th>\n",
       "      <th>LotArea</th>\n",
       "      <th>OverallQual</th>\n",
       "      <th>OverallCond</th>\n",
       "      <th>TotalBsmtSF</th>\n",
       "      <th>FullBath</th>\n",
       "      <th>HalfBath</th>\n",
       "      <th>BedroomAbvGr</th>\n",
       "      <th>TotRmsAbvGrd</th>\n",
       "      <th>Fireplaces</th>\n",
       "      <th>GarageArea</th>\n",
       "      <th>AboveMedianPrice</th>\n",
       "    </tr>\n",
       "  </thead>\n",
       "  <tbody>\n",
       "    <tr>\n",
       "      <th>0</th>\n",
       "      <td>8450</td>\n",
       "      <td>7</td>\n",
       "      <td>5</td>\n",
       "      <td>856</td>\n",
       "      <td>2</td>\n",
       "      <td>1</td>\n",
       "      <td>3</td>\n",
       "      <td>8</td>\n",
       "      <td>0</td>\n",
       "      <td>548</td>\n",
       "      <td>1</td>\n",
       "    </tr>\n",
       "    <tr>\n",
       "      <th>1</th>\n",
       "      <td>9600</td>\n",
       "      <td>6</td>\n",
       "      <td>8</td>\n",
       "      <td>1262</td>\n",
       "      <td>2</td>\n",
       "      <td>0</td>\n",
       "      <td>3</td>\n",
       "      <td>6</td>\n",
       "      <td>1</td>\n",
       "      <td>460</td>\n",
       "      <td>1</td>\n",
       "    </tr>\n",
       "    <tr>\n",
       "      <th>2</th>\n",
       "      <td>11250</td>\n",
       "      <td>7</td>\n",
       "      <td>5</td>\n",
       "      <td>920</td>\n",
       "      <td>2</td>\n",
       "      <td>1</td>\n",
       "      <td>3</td>\n",
       "      <td>6</td>\n",
       "      <td>1</td>\n",
       "      <td>608</td>\n",
       "      <td>1</td>\n",
       "    </tr>\n",
       "    <tr>\n",
       "      <th>3</th>\n",
       "      <td>9550</td>\n",
       "      <td>7</td>\n",
       "      <td>5</td>\n",
       "      <td>756</td>\n",
       "      <td>1</td>\n",
       "      <td>0</td>\n",
       "      <td>3</td>\n",
       "      <td>7</td>\n",
       "      <td>1</td>\n",
       "      <td>642</td>\n",
       "      <td>0</td>\n",
       "    </tr>\n",
       "    <tr>\n",
       "      <th>4</th>\n",
       "      <td>14260</td>\n",
       "      <td>8</td>\n",
       "      <td>5</td>\n",
       "      <td>1145</td>\n",
       "      <td>2</td>\n",
       "      <td>1</td>\n",
       "      <td>4</td>\n",
       "      <td>9</td>\n",
       "      <td>1</td>\n",
       "      <td>836</td>\n",
       "      <td>1</td>\n",
       "    </tr>\n",
       "  </tbody>\n",
       "</table>\n",
       "</div>"
      ],
      "text/plain": [
       "   LotArea  OverallQual  OverallCond  TotalBsmtSF  FullBath  HalfBath  \\\n",
       "0     8450            7            5          856         2         1   \n",
       "1     9600            6            8         1262         2         0   \n",
       "2    11250            7            5          920         2         1   \n",
       "3     9550            7            5          756         1         0   \n",
       "4    14260            8            5         1145         2         1   \n",
       "\n",
       "   BedroomAbvGr  TotRmsAbvGrd  Fireplaces  GarageArea  AboveMedianPrice  \n",
       "0             3             8           0         548                 1  \n",
       "1             3             6           1         460                 1  \n",
       "2             3             6           1         608                 1  \n",
       "3             3             7           1         642                 0  \n",
       "4             4             9           1         836                 1  "
      ]
     },
     "execution_count": 3,
     "metadata": {},
     "output_type": "execute_result"
    }
   ],
   "source": [
    "df.head()"
   ]
  },
  {
   "cell_type": "code",
   "execution_count": 4,
   "metadata": {},
   "outputs": [
    {
     "data": {
      "text/plain": [
       "array([[ 8450,     7,     5, ...,     8,     0,   548],\n",
       "       [ 9600,     6,     8, ...,     6,     1,   460],\n",
       "       [11250,     7,     5, ...,     6,     1,   608],\n",
       "       ...,\n",
       "       [ 9042,     7,     9, ...,     9,     2,   252],\n",
       "       [ 9717,     5,     6, ...,     5,     0,   240],\n",
       "       [ 9937,     5,     6, ...,     6,     0,   276]], dtype=int64)"
      ]
     },
     "execution_count": 4,
     "metadata": {},
     "output_type": "execute_result"
    }
   ],
   "source": [
    "X = df.values[:, 0:10]\n",
    "X"
   ]
  },
  {
   "cell_type": "code",
   "execution_count": 5,
   "metadata": {},
   "outputs": [
    {
     "data": {
      "text/plain": [
       "array([1, 1, 1, ..., 1, 0, 0], dtype=int64)"
      ]
     },
     "execution_count": 5,
     "metadata": {},
     "output_type": "execute_result"
    }
   ],
   "source": [
    "Y = df.values[:, 10]\n",
    "Y"
   ]
  },
  {
   "cell_type": "code",
   "execution_count": 6,
   "metadata": {},
   "outputs": [],
   "source": [
    "from sklearn import preprocessing\n",
    "min_max_scaler = preprocessing.MinMaxScaler()\n",
    "X_scale = min_max_scaler.fit_transform(X)"
   ]
  },
  {
   "cell_type": "code",
   "execution_count": 7,
   "metadata": {},
   "outputs": [],
   "source": [
    "from sklearn.model_selection import train_test_split\n",
    "X_train, X_val_and_test, Y_train, Y_val_and_test = train_test_split(X_scale, Y, test_size=0.3)\n",
    "X_val, X_test, Y_val, Y_test = train_test_split(X_val_and_test, Y_val_and_test, test_size=0.5)"
   ]
  },
  {
   "cell_type": "code",
   "execution_count": 8,
   "metadata": {},
   "outputs": [
    {
     "name": "stderr",
     "output_type": "stream",
     "text": [
      "Using TensorFlow backend.\n"
     ]
    }
   ],
   "source": [
    "from keras.models import Sequential\n",
    "from keras.layers import Dense\n",
    "\n",
    "model = Sequential([\n",
    "    Dense(32, activation='relu', input_shape=(10,)),\n",
    "    Dense(32, activation='relu'),\n",
    "    Dense(1, activation='sigmoid'),\n",
    "])"
   ]
  },
  {
   "cell_type": "code",
   "execution_count": 9,
   "metadata": {},
   "outputs": [],
   "source": [
    "model.compile(optimizer='sgd',\n",
    "             loss='binary_crossentropy',\n",
    "             metrics=['accuracy'])"
   ]
  },
  {
   "cell_type": "code",
   "execution_count": 10,
   "metadata": {},
   "outputs": [
    {
     "name": "stdout",
     "output_type": "stream",
     "text": [
      "Train on 1022 samples, validate on 219 samples\n",
      "Epoch 1/100\n",
      "1022/1022 [==============================] - 0s 230us/step - loss: 0.6919 - accuracy: 0.5450 - val_loss: 0.6875 - val_accuracy: 0.6575\n",
      "Epoch 2/100\n",
      "1022/1022 [==============================] - 0s 38us/step - loss: 0.6833 - accuracy: 0.6918 - val_loss: 0.6791 - val_accuracy: 0.6347\n",
      "Epoch 3/100\n",
      "1022/1022 [==============================] - 0s 41us/step - loss: 0.6762 - accuracy: 0.6380 - val_loss: 0.6721 - val_accuracy: 0.6119\n",
      "Epoch 4/100\n",
      "1022/1022 [==============================] - 0s 38us/step - loss: 0.6694 - accuracy: 0.6135 - val_loss: 0.6657 - val_accuracy: 0.6119\n",
      "Epoch 5/100\n",
      "1022/1022 [==============================] - 0s 39us/step - loss: 0.6629 - accuracy: 0.6429 - val_loss: 0.6595 - val_accuracy: 0.6256\n",
      "Epoch 6/100\n",
      "1022/1022 [==============================] - 0s 38us/step - loss: 0.6566 - accuracy: 0.6605 - val_loss: 0.6538 - val_accuracy: 0.6575\n",
      "Epoch 7/100\n",
      "1022/1022 [==============================] - 0s 41us/step - loss: 0.6506 - accuracy: 0.6830 - val_loss: 0.6484 - val_accuracy: 0.6804\n",
      "Epoch 8/100\n",
      "1022/1022 [==============================] - 0s 43us/step - loss: 0.6445 - accuracy: 0.7290 - val_loss: 0.6426 - val_accuracy: 0.6895\n",
      "Epoch 9/100\n",
      "1022/1022 [==============================] - 0s 41us/step - loss: 0.6380 - accuracy: 0.7290 - val_loss: 0.6367 - val_accuracy: 0.7078\n",
      "Epoch 10/100\n",
      "1022/1022 [==============================] - 0s 42us/step - loss: 0.6313 - accuracy: 0.7583 - val_loss: 0.6303 - val_accuracy: 0.7078\n",
      "Epoch 11/100\n",
      "1022/1022 [==============================] - 0s 42us/step - loss: 0.6242 - accuracy: 0.7740 - val_loss: 0.6235 - val_accuracy: 0.7215\n",
      "Epoch 12/100\n",
      "1022/1022 [==============================] - 0s 46us/step - loss: 0.6163 - accuracy: 0.7955 - val_loss: 0.6161 - val_accuracy: 0.7306\n",
      "Epoch 13/100\n",
      "1022/1022 [==============================] - 0s 37us/step - loss: 0.6081 - accuracy: 0.7984 - val_loss: 0.6084 - val_accuracy: 0.7489\n",
      "Epoch 14/100\n",
      "1022/1022 [==============================] - 0s 39us/step - loss: 0.5995 - accuracy: 0.8141 - val_loss: 0.6006 - val_accuracy: 0.7717\n",
      "Epoch 15/100\n",
      "1022/1022 [==============================] - 0s 38us/step - loss: 0.5909 - accuracy: 0.8209 - val_loss: 0.5927 - val_accuracy: 0.7717\n",
      "Epoch 16/100\n",
      "1022/1022 [==============================] - 0s 38us/step - loss: 0.5821 - accuracy: 0.8229 - val_loss: 0.5847 - val_accuracy: 0.7900\n",
      "Epoch 17/100\n",
      "1022/1022 [==============================] - 0s 41us/step - loss: 0.5730 - accuracy: 0.8307 - val_loss: 0.5766 - val_accuracy: 0.7854\n",
      "Epoch 18/100\n",
      "1022/1022 [==============================] - 0s 37us/step - loss: 0.5638 - accuracy: 0.8356 - val_loss: 0.5682 - val_accuracy: 0.7900\n",
      "Epoch 19/100\n",
      "1022/1022 [==============================] - 0s 44us/step - loss: 0.5543 - accuracy: 0.8356 - val_loss: 0.5599 - val_accuracy: 0.7900\n",
      "Epoch 20/100\n",
      "1022/1022 [==============================] - 0s 39us/step - loss: 0.5448 - accuracy: 0.8415 - val_loss: 0.5514 - val_accuracy: 0.8037\n",
      "Epoch 21/100\n",
      "1022/1022 [==============================] - 0s 38us/step - loss: 0.5351 - accuracy: 0.8444 - val_loss: 0.5428 - val_accuracy: 0.8174\n",
      "Epoch 22/100\n",
      "1022/1022 [==============================] - 0s 37us/step - loss: 0.5253 - accuracy: 0.8493 - val_loss: 0.5345 - val_accuracy: 0.8082\n",
      "Epoch 23/100\n",
      "1022/1022 [==============================] - 0s 34us/step - loss: 0.5155 - accuracy: 0.8444 - val_loss: 0.5256 - val_accuracy: 0.8356\n",
      "Epoch 24/100\n",
      "1022/1022 [==============================] - 0s 41us/step - loss: 0.5057 - accuracy: 0.8474 - val_loss: 0.5170 - val_accuracy: 0.8311\n",
      "Epoch 25/100\n",
      "1022/1022 [==============================] - 0s 45us/step - loss: 0.4959 - accuracy: 0.8503 - val_loss: 0.5088 - val_accuracy: 0.8311\n",
      "Epoch 26/100\n",
      "1022/1022 [==============================] - 0s 39us/step - loss: 0.4862 - accuracy: 0.8523 - val_loss: 0.5011 - val_accuracy: 0.8356\n",
      "Epoch 27/100\n",
      "1022/1022 [==============================] - 0s 41us/step - loss: 0.4767 - accuracy: 0.8562 - val_loss: 0.4932 - val_accuracy: 0.8265\n",
      "Epoch 28/100\n",
      "1022/1022 [==============================] - 0s 44us/step - loss: 0.4671 - accuracy: 0.8532 - val_loss: 0.4853 - val_accuracy: 0.8311\n",
      "Epoch 29/100\n",
      "1022/1022 [==============================] - 0s 48us/step - loss: 0.4578 - accuracy: 0.8611 - val_loss: 0.4779 - val_accuracy: 0.8311\n",
      "Epoch 30/100\n",
      "1022/1022 [==============================] - 0s 45us/step - loss: 0.4485 - accuracy: 0.8552 - val_loss: 0.4698 - val_accuracy: 0.8311\n",
      "Epoch 31/100\n",
      "1022/1022 [==============================] - 0s 43us/step - loss: 0.4393 - accuracy: 0.8650 - val_loss: 0.4643 - val_accuracy: 0.8265\n",
      "Epoch 32/100\n",
      "1022/1022 [==============================] - 0s 43us/step - loss: 0.4304 - accuracy: 0.8669 - val_loss: 0.4576 - val_accuracy: 0.8265\n",
      "Epoch 33/100\n",
      "1022/1022 [==============================] - 0s 46us/step - loss: 0.4218 - accuracy: 0.8640 - val_loss: 0.4483 - val_accuracy: 0.8447\n",
      "Epoch 34/100\n",
      "1022/1022 [==============================] - 0s 47us/step - loss: 0.4138 - accuracy: 0.8689 - val_loss: 0.4428 - val_accuracy: 0.8402\n",
      "Epoch 35/100\n",
      "1022/1022 [==============================] - 0s 43us/step - loss: 0.4058 - accuracy: 0.8689 - val_loss: 0.4364 - val_accuracy: 0.8402\n",
      "Epoch 36/100\n",
      "1022/1022 [==============================] - 0s 42us/step - loss: 0.3981 - accuracy: 0.8689 - val_loss: 0.4299 - val_accuracy: 0.8447\n",
      "Epoch 37/100\n",
      "1022/1022 [==============================] - 0s 41us/step - loss: 0.3909 - accuracy: 0.8708 - val_loss: 0.4249 - val_accuracy: 0.8447\n",
      "Epoch 38/100\n",
      "1022/1022 [==============================] - 0s 39us/step - loss: 0.3839 - accuracy: 0.8748 - val_loss: 0.4198 - val_accuracy: 0.8447\n",
      "Epoch 39/100\n",
      "1022/1022 [==============================] - 0s 39us/step - loss: 0.3772 - accuracy: 0.8699 - val_loss: 0.4140 - val_accuracy: 0.8493\n",
      "Epoch 40/100\n",
      "1022/1022 [==============================] - 0s 39us/step - loss: 0.3712 - accuracy: 0.8796 - val_loss: 0.4110 - val_accuracy: 0.8402\n",
      "Epoch 41/100\n",
      "1022/1022 [==============================] - 0s 37us/step - loss: 0.3649 - accuracy: 0.8787 - val_loss: 0.4074 - val_accuracy: 0.8447\n",
      "Epoch 42/100\n",
      "1022/1022 [==============================] - 0s 42us/step - loss: 0.3592 - accuracy: 0.8816 - val_loss: 0.4032 - val_accuracy: 0.8402\n",
      "Epoch 43/100\n",
      "1022/1022 [==============================] - 0s 36us/step - loss: 0.3539 - accuracy: 0.8777 - val_loss: 0.3990 - val_accuracy: 0.8447\n",
      "Epoch 44/100\n",
      "1022/1022 [==============================] - 0s 40us/step - loss: 0.3489 - accuracy: 0.8796 - val_loss: 0.3951 - val_accuracy: 0.8447\n",
      "Epoch 45/100\n",
      "1022/1022 [==============================] - 0s 39us/step - loss: 0.3438 - accuracy: 0.8836 - val_loss: 0.3933 - val_accuracy: 0.8493\n",
      "Epoch 46/100\n",
      "1022/1022 [==============================] - 0s 35us/step - loss: 0.3391 - accuracy: 0.8845 - val_loss: 0.3890 - val_accuracy: 0.8447\n",
      "Epoch 47/100\n",
      "1022/1022 [==============================] - 0s 34us/step - loss: 0.3353 - accuracy: 0.8855 - val_loss: 0.3856 - val_accuracy: 0.8447\n",
      "Epoch 48/100\n",
      "1022/1022 [==============================] - 0s 34us/step - loss: 0.3312 - accuracy: 0.8855 - val_loss: 0.3834 - val_accuracy: 0.8447\n",
      "Epoch 49/100\n",
      "1022/1022 [==============================] - 0s 34us/step - loss: 0.3272 - accuracy: 0.8865 - val_loss: 0.3812 - val_accuracy: 0.8447\n",
      "Epoch 50/100\n",
      "1022/1022 [==============================] - 0s 35us/step - loss: 0.3235 - accuracy: 0.8845 - val_loss: 0.3798 - val_accuracy: 0.8447\n",
      "Epoch 51/100\n",
      "1022/1022 [==============================] - 0s 38us/step - loss: 0.3205 - accuracy: 0.8845 - val_loss: 0.3782 - val_accuracy: 0.8493\n",
      "Epoch 52/100\n",
      "1022/1022 [==============================] - 0s 40us/step - loss: 0.3167 - accuracy: 0.8855 - val_loss: 0.3749 - val_accuracy: 0.8447\n",
      "Epoch 53/100\n",
      "1022/1022 [==============================] - 0s 39us/step - loss: 0.3142 - accuracy: 0.8855 - val_loss: 0.3733 - val_accuracy: 0.8493\n",
      "Epoch 54/100\n",
      "1022/1022 [==============================] - 0s 37us/step - loss: 0.3114 - accuracy: 0.8865 - val_loss: 0.3733 - val_accuracy: 0.8493\n",
      "Epoch 55/100\n",
      "1022/1022 [==============================] - 0s 38us/step - loss: 0.3088 - accuracy: 0.8855 - val_loss: 0.3728 - val_accuracy: 0.8539\n",
      "Epoch 56/100\n",
      "1022/1022 [==============================] - 0s 36us/step - loss: 0.3060 - accuracy: 0.8855 - val_loss: 0.3697 - val_accuracy: 0.8493\n",
      "Epoch 57/100\n",
      "1022/1022 [==============================] - 0s 36us/step - loss: 0.3035 - accuracy: 0.8845 - val_loss: 0.3701 - val_accuracy: 0.8584\n",
      "Epoch 58/100\n",
      "1022/1022 [==============================] - 0s 33us/step - loss: 0.3009 - accuracy: 0.8845 - val_loss: 0.3702 - val_accuracy: 0.8539\n",
      "Epoch 59/100\n",
      "1022/1022 [==============================] - 0s 32us/step - loss: 0.2992 - accuracy: 0.8816 - val_loss: 0.3682 - val_accuracy: 0.8584\n",
      "Epoch 60/100\n",
      "1022/1022 [==============================] - 0s 35us/step - loss: 0.2972 - accuracy: 0.8855 - val_loss: 0.3678 - val_accuracy: 0.8584\n",
      "Epoch 61/100\n",
      "1022/1022 [==============================] - 0s 34us/step - loss: 0.2957 - accuracy: 0.8845 - val_loss: 0.3656 - val_accuracy: 0.8584\n",
      "Epoch 62/100\n",
      "1022/1022 [==============================] - 0s 35us/step - loss: 0.2941 - accuracy: 0.8836 - val_loss: 0.3637 - val_accuracy: 0.8447\n",
      "Epoch 63/100\n",
      "1022/1022 [==============================] - 0s 34us/step - loss: 0.2916 - accuracy: 0.8875 - val_loss: 0.3642 - val_accuracy: 0.8493\n",
      "Epoch 64/100\n",
      "1022/1022 [==============================] - 0s 33us/step - loss: 0.2903 - accuracy: 0.8855 - val_loss: 0.3633 - val_accuracy: 0.8493\n",
      "Epoch 65/100\n",
      "1022/1022 [==============================] - 0s 34us/step - loss: 0.2883 - accuracy: 0.8885 - val_loss: 0.3652 - val_accuracy: 0.8630\n",
      "Epoch 66/100\n",
      "1022/1022 [==============================] - 0s 34us/step - loss: 0.2877 - accuracy: 0.8845 - val_loss: 0.3632 - val_accuracy: 0.8539\n",
      "Epoch 67/100\n",
      "1022/1022 [==============================] - 0s 35us/step - loss: 0.2852 - accuracy: 0.8845 - val_loss: 0.3590 - val_accuracy: 0.8493\n",
      "Epoch 68/100\n",
      "1022/1022 [==============================] - 0s 32us/step - loss: 0.2842 - accuracy: 0.8865 - val_loss: 0.3608 - val_accuracy: 0.8493\n",
      "Epoch 69/100\n",
      "1022/1022 [==============================] - 0s 34us/step - loss: 0.2834 - accuracy: 0.8865 - val_loss: 0.3589 - val_accuracy: 0.8493\n",
      "Epoch 70/100\n",
      "1022/1022 [==============================] - 0s 33us/step - loss: 0.2817 - accuracy: 0.8914 - val_loss: 0.3646 - val_accuracy: 0.8584\n",
      "Epoch 71/100\n",
      "1022/1022 [==============================] - 0s 35us/step - loss: 0.2797 - accuracy: 0.8875 - val_loss: 0.3577 - val_accuracy: 0.8493\n",
      "Epoch 72/100\n",
      "1022/1022 [==============================] - 0s 33us/step - loss: 0.2805 - accuracy: 0.8885 - val_loss: 0.3587 - val_accuracy: 0.8539\n",
      "Epoch 73/100\n",
      "1022/1022 [==============================] - 0s 34us/step - loss: 0.2782 - accuracy: 0.8894 - val_loss: 0.3619 - val_accuracy: 0.8630\n",
      "Epoch 74/100\n",
      "1022/1022 [==============================] - 0s 33us/step - loss: 0.2777 - accuracy: 0.8904 - val_loss: 0.3613 - val_accuracy: 0.8584\n",
      "Epoch 75/100\n",
      "1022/1022 [==============================] - 0s 31us/step - loss: 0.2747 - accuracy: 0.8885 - val_loss: 0.3563 - val_accuracy: 0.8539\n",
      "Epoch 76/100\n",
      "1022/1022 [==============================] - 0s 34us/step - loss: 0.2752 - accuracy: 0.8924 - val_loss: 0.3603 - val_accuracy: 0.8584\n",
      "Epoch 77/100\n",
      "1022/1022 [==============================] - 0s 35us/step - loss: 0.2738 - accuracy: 0.8933 - val_loss: 0.3634 - val_accuracy: 0.8584\n",
      "Epoch 78/100\n",
      "1022/1022 [==============================] - 0s 37us/step - loss: 0.2733 - accuracy: 0.8875 - val_loss: 0.3569 - val_accuracy: 0.8539\n",
      "Epoch 79/100\n",
      "1022/1022 [==============================] - 0s 36us/step - loss: 0.2721 - accuracy: 0.8914 - val_loss: 0.3558 - val_accuracy: 0.8539\n",
      "Epoch 80/100\n",
      "1022/1022 [==============================] - 0s 34us/step - loss: 0.2716 - accuracy: 0.8894 - val_loss: 0.3569 - val_accuracy: 0.8584\n",
      "Epoch 81/100\n",
      "1022/1022 [==============================] - 0s 35us/step - loss: 0.2713 - accuracy: 0.8943 - val_loss: 0.3574 - val_accuracy: 0.8584\n",
      "Epoch 82/100\n",
      "1022/1022 [==============================] - 0s 33us/step - loss: 0.2709 - accuracy: 0.8924 - val_loss: 0.3576 - val_accuracy: 0.8584\n",
      "Epoch 83/100\n",
      "1022/1022 [==============================] - 0s 34us/step - loss: 0.2695 - accuracy: 0.8885 - val_loss: 0.3575 - val_accuracy: 0.8584\n",
      "Epoch 84/100\n",
      "1022/1022 [==============================] - 0s 34us/step - loss: 0.2682 - accuracy: 0.8924 - val_loss: 0.3579 - val_accuracy: 0.8584\n",
      "Epoch 85/100\n",
      "1022/1022 [==============================] - 0s 34us/step - loss: 0.2678 - accuracy: 0.8924 - val_loss: 0.3569 - val_accuracy: 0.8630\n",
      "Epoch 86/100\n",
      "1022/1022 [==============================] - 0s 33us/step - loss: 0.2656 - accuracy: 0.8875 - val_loss: 0.3539 - val_accuracy: 0.8676\n",
      "Epoch 87/100\n",
      "1022/1022 [==============================] - 0s 44us/step - loss: 0.2668 - accuracy: 0.8894 - val_loss: 0.3542 - val_accuracy: 0.8676\n",
      "Epoch 88/100\n",
      "1022/1022 [==============================] - 0s 34us/step - loss: 0.2658 - accuracy: 0.8875 - val_loss: 0.3571 - val_accuracy: 0.8630\n",
      "Epoch 89/100\n",
      "1022/1022 [==============================] - 0s 36us/step - loss: 0.2650 - accuracy: 0.8924 - val_loss: 0.3597 - val_accuracy: 0.8676\n",
      "Epoch 90/100\n",
      "1022/1022 [==============================] - 0s 35us/step - loss: 0.2642 - accuracy: 0.8943 - val_loss: 0.3558 - val_accuracy: 0.8630\n",
      "Epoch 91/100\n",
      "1022/1022 [==============================] - 0s 34us/step - loss: 0.2639 - accuracy: 0.8933 - val_loss: 0.3567 - val_accuracy: 0.8630\n",
      "Epoch 92/100\n",
      "1022/1022 [==============================] - 0s 36us/step - loss: 0.2632 - accuracy: 0.8933 - val_loss: 0.3543 - val_accuracy: 0.8676\n",
      "Epoch 93/100\n",
      "1022/1022 [==============================] - 0s 37us/step - loss: 0.2623 - accuracy: 0.8894 - val_loss: 0.3571 - val_accuracy: 0.8630\n",
      "Epoch 94/100\n",
      "1022/1022 [==============================] - 0s 35us/step - loss: 0.2621 - accuracy: 0.8914 - val_loss: 0.3570 - val_accuracy: 0.8630\n",
      "Epoch 95/100\n",
      "1022/1022 [==============================] - 0s 34us/step - loss: 0.2612 - accuracy: 0.8904 - val_loss: 0.3546 - val_accuracy: 0.8676\n",
      "Epoch 96/100\n",
      "1022/1022 [==============================] - 0s 32us/step - loss: 0.2606 - accuracy: 0.8904 - val_loss: 0.3551 - val_accuracy: 0.8676\n",
      "Epoch 97/100\n",
      "1022/1022 [==============================] - 0s 33us/step - loss: 0.2598 - accuracy: 0.8943 - val_loss: 0.3533 - val_accuracy: 0.8721\n",
      "Epoch 98/100\n",
      "1022/1022 [==============================] - 0s 35us/step - loss: 0.2596 - accuracy: 0.8914 - val_loss: 0.3524 - val_accuracy: 0.8676\n",
      "Epoch 99/100\n",
      "1022/1022 [==============================] - 0s 34us/step - loss: 0.2595 - accuracy: 0.8904 - val_loss: 0.3529 - val_accuracy: 0.8721\n",
      "Epoch 100/100\n",
      "1022/1022 [==============================] - 0s 36us/step - loss: 0.2582 - accuracy: 0.8953 - val_loss: 0.3552 - val_accuracy: 0.8721\n"
     ]
    }
   ],
   "source": [
    "hist = model.fit(X_train, Y_train,\n",
    "                batch_size=32, epochs=100,\n",
    "                validation_data=(X_val, Y_val))"
   ]
  },
  {
   "cell_type": "code",
   "execution_count": 11,
   "metadata": {},
   "outputs": [
    {
     "name": "stdout",
     "output_type": "stream",
     "text": [
      "219/219 [==============================] - 0s 27us/step\n"
     ]
    },
    {
     "data": {
      "text/plain": [
       "0.8767123222351074"
      ]
     },
     "execution_count": 11,
     "metadata": {},
     "output_type": "execute_result"
    }
   ],
   "source": [
    "model.evaluate(X_test, Y_test)[1]"
   ]
  },
  {
   "cell_type": "code",
   "execution_count": 35,
   "metadata": {},
   "outputs": [
    {
     "data": {
      "image/png": "[encoded data removed]",
      "text/plain": [
       "<Figure size 432x288 with 1 Axes>"
      ]
     },
     "metadata": {
      "needs_background": "light"
     },
     "output_type": "display_data"
    }
   ],
   "source": [
    "import matplotlib.pyplot as plt\n",
    "\n",
    "def show_loss_plot(hist):\n",
    "    plt.plot(hist.history['loss'])\n",
    "    plt.plot(hist.history['val_loss'])\n",
    "    plt.title('Model loss')\n",
    "    plt.ylabel('Loss')\n",
    "    plt.xlabel('Epoch')\n",
    "    plt.ylim(top=1.2, bottom=0)\n",
    "    plt.legend(['Train', 'Val'], loc='upper right')\n",
    "    plt.show()\n",
    "\n",
    "show_loss_plot(hist)"
   ]
  },
  {
   "cell_type": "code",
   "execution_count": 22,
   "metadata": {},
   "outputs": [
    {
     "data": {
      "image/png": "[encoded data removed]",
      "text/plain": [
       "<Figure size 432x288 with 1 Axes>"
      ]
     },
     "metadata": {
      "needs_background": "light"
     },
     "output_type": "display_data"
    }
   ],
   "source": [
    "def show_acc_plot(hist):\n",
    "    plt.plot(hist.history['accuracy'])\n",
    "    plt.plot(hist.history['val_accuracy'])\n",
    "    plt.title('Model accuracy')\n",
    "    plt.ylabel('Accuracy')\n",
    "    plt.xlabel('Epoch')\n",
    "    plt.legend(['Train', 'Val'], loc='lower right')\n",
    "    plt.show()\n",
    "\n",
    "show_acc_plot(hist)"
   ]
  },
  {
   "cell_type": "code",
   "execution_count": 17,
   "metadata": {},
   "outputs": [
    {
     "name": "stdout",
     "output_type": "stream",
     "text": [
      "Train on 1022 samples, validate on 219 samples\n",
      "Epoch 1/100\n",
      "1022/1022 [==============================] - 2s 2ms/step - loss: 0.4737 - accuracy: 0.8023 - val_loss: 0.4230 - val_accuracy: 0.8402\n",
      "Epoch 2/100\n",
      "1022/1022 [==============================] - 2s 2ms/step - loss: 0.3679 - accuracy: 0.8659 - val_loss: 0.4288 - val_accuracy: 0.8174\n",
      "Epoch 3/100\n",
      "1022/1022 [==============================] - 2s 2ms/step - loss: 0.2962 - accuracy: 0.8816 - val_loss: 0.3748 - val_accuracy: 0.8447\n",
      "Epoch 4/100\n",
      "1022/1022 [==============================] - 2s 2ms/step - loss: 0.2606 - accuracy: 0.8836 - val_loss: 0.4049 - val_accuracy: 0.8447\n",
      "Epoch 5/100\n",
      "1022/1022 [==============================] - 2s 2ms/step - loss: 0.2529 - accuracy: 0.8953 - val_loss: 0.3572 - val_accuracy: 0.8584\n",
      "Epoch 6/100\n",
      "1022/1022 [==============================] - 2s 2ms/step - loss: 0.2530 - accuracy: 0.8885 - val_loss: 0.4228 - val_accuracy: 0.8539\n",
      "Epoch 7/100\n",
      "1022/1022 [==============================] - 2s 2ms/step - loss: 0.2362 - accuracy: 0.8943 - val_loss: 0.3825 - val_accuracy: 0.8539\n",
      "Epoch 8/100\n",
      "1022/1022 [==============================] - 2s 2ms/step - loss: 0.2308 - accuracy: 0.9119 - val_loss: 0.3902 - val_accuracy: 0.8676\n",
      "Epoch 9/100\n",
      "1022/1022 [==============================] - 2s 2ms/step - loss: 0.2374 - accuracy: 0.9002 - val_loss: 0.3993 - val_accuracy: 0.8721\n",
      "Epoch 10/100\n",
      "1022/1022 [==============================] - 2s 2ms/step - loss: 0.2138 - accuracy: 0.9061 - val_loss: 0.3772 - val_accuracy: 0.8584\n",
      "Epoch 11/100\n",
      "1022/1022 [==============================] - 2s 2ms/step - loss: 0.2077 - accuracy: 0.9110 - val_loss: 0.3672 - val_accuracy: 0.8721\n",
      "Epoch 12/100\n",
      "1022/1022 [==============================] - 2s 2ms/step - loss: 0.2201 - accuracy: 0.9149 - val_loss: 0.3674 - val_accuracy: 0.8676\n",
      "Epoch 13/100\n",
      "1022/1022 [==============================] - 2s 2ms/step - loss: 0.2143 - accuracy: 0.9110 - val_loss: 0.3782 - val_accuracy: 0.8858\n",
      "Epoch 14/100\n",
      "1022/1022 [==============================] - 2s 2ms/step - loss: 0.2094 - accuracy: 0.9119 - val_loss: 0.4042 - val_accuracy: 0.8767\n",
      "Epoch 15/100\n",
      "1022/1022 [==============================] - 2s 2ms/step - loss: 0.2081 - accuracy: 0.9041 - val_loss: 0.3874 - val_accuracy: 0.8721\n",
      "Epoch 16/100\n",
      "1022/1022 [==============================] - 2s 2ms/step - loss: 0.2048 - accuracy: 0.9080 - val_loss: 0.3681 - val_accuracy: 0.8767\n",
      "Epoch 17/100\n",
      "1022/1022 [==============================] - 2s 2ms/step - loss: 0.2138 - accuracy: 0.9061 - val_loss: 0.3626 - val_accuracy: 0.8904\n",
      "Epoch 18/100\n",
      "1022/1022 [==============================] - 2s 2ms/step - loss: 0.1989 - accuracy: 0.9100 - val_loss: 0.4236 - val_accuracy: 0.8813\n",
      "Epoch 19/100\n",
      "1022/1022 [==============================] - 2s 2ms/step - loss: 0.2123 - accuracy: 0.9100 - val_loss: 0.3770 - val_accuracy: 0.8767\n",
      "Epoch 20/100\n",
      "1022/1022 [==============================] - 2s 2ms/step - loss: 0.1976 - accuracy: 0.9031 - val_loss: 0.4361 - val_accuracy: 0.8584\n",
      "Epoch 21/100\n",
      "1022/1022 [==============================] - 2s 2ms/step - loss: 0.1983 - accuracy: 0.9188 - val_loss: 0.3915 - val_accuracy: 0.8676\n",
      "Epoch 22/100\n",
      "1022/1022 [==============================] - 2s 2ms/step - loss: 0.1959 - accuracy: 0.9237 - val_loss: 0.4547 - val_accuracy: 0.8721\n",
      "Epoch 23/100\n",
      "1022/1022 [==============================] - 2s 2ms/step - loss: 0.1879 - accuracy: 0.9159 - val_loss: 0.4093 - val_accuracy: 0.8721\n",
      "Epoch 24/100\n",
      "1022/1022 [==============================] - 2s 2ms/step - loss: 0.2074 - accuracy: 0.9139 - val_loss: 0.4125 - val_accuracy: 0.8402\n",
      "Epoch 25/100\n",
      "1022/1022 [==============================] - 2s 2ms/step - loss: 0.1909 - accuracy: 0.9178 - val_loss: 0.4083 - val_accuracy: 0.8630\n",
      "Epoch 26/100\n",
      "1022/1022 [==============================] - 2s 2ms/step - loss: 0.1906 - accuracy: 0.9149 - val_loss: 0.4199 - val_accuracy: 0.8630\n",
      "Epoch 27/100\n",
      "1022/1022 [==============================] - 2s 2ms/step - loss: 0.2254 - accuracy: 0.9041 - val_loss: 0.3883 - val_accuracy: 0.8630\n",
      "Epoch 28/100\n",
      "1022/1022 [==============================] - 2s 2ms/step - loss: 0.1844 - accuracy: 0.9168 - val_loss: 0.4546 - val_accuracy: 0.8676\n",
      "Epoch 29/100\n",
      "1022/1022 [==============================] - 2s 2ms/step - loss: 0.1949 - accuracy: 0.9149 - val_loss: 0.4130 - val_accuracy: 0.8813\n",
      "Epoch 30/100\n",
      "1022/1022 [==============================] - 2s 2ms/step - loss: 0.2037 - accuracy: 0.9090 - val_loss: 0.4123 - val_accuracy: 0.8630\n",
      "Epoch 31/100\n",
      "1022/1022 [==============================] - 3s 3ms/step - loss: 0.1929 - accuracy: 0.9139 - val_loss: 0.4041 - val_accuracy: 0.8767\n",
      "Epoch 32/100\n",
      "1022/1022 [==============================] - 2s 2ms/step - loss: 0.1835 - accuracy: 0.9168 - val_loss: 0.3898 - val_accuracy: 0.8721\n",
      "Epoch 33/100\n",
      "1022/1022 [==============================] - 2s 2ms/step - loss: 0.1754 - accuracy: 0.9266 - val_loss: 0.4143 - val_accuracy: 0.8813\n",
      "Epoch 34/100\n",
      "1022/1022 [==============================] - 2s 2ms/step - loss: 0.1664 - accuracy: 0.9266 - val_loss: 0.4995 - val_accuracy: 0.8767\n",
      "Epoch 35/100\n",
      "1022/1022 [==============================] - 2s 2ms/step - loss: 0.1767 - accuracy: 0.9217 - val_loss: 0.4416 - val_accuracy: 0.8721\n",
      "Epoch 36/100\n",
      "1022/1022 [==============================] - 2s 2ms/step - loss: 0.1786 - accuracy: 0.9188 - val_loss: 0.4266 - val_accuracy: 0.8813\n",
      "Epoch 37/100\n",
      "1022/1022 [==============================] - 2s 2ms/step - loss: 0.1696 - accuracy: 0.9344 - val_loss: 0.4483 - val_accuracy: 0.8767\n",
      "Epoch 38/100\n",
      "1022/1022 [==============================] - 2s 2ms/step - loss: 0.1777 - accuracy: 0.9198 - val_loss: 0.4212 - val_accuracy: 0.8630\n",
      "Epoch 39/100\n",
      "1022/1022 [==============================] - 2s 2ms/step - loss: 0.1658 - accuracy: 0.9335 - val_loss: 0.4389 - val_accuracy: 0.8584\n",
      "Epoch 40/100\n",
      "1022/1022 [==============================] - 2s 2ms/step - loss: 0.1634 - accuracy: 0.9286 - val_loss: 0.4495 - val_accuracy: 0.8721\n",
      "Epoch 41/100\n",
      "1022/1022 [==============================] - 2s 2ms/step - loss: 0.1540 - accuracy: 0.9295 - val_loss: 0.4657 - val_accuracy: 0.8676\n",
      "Epoch 42/100\n",
      "1022/1022 [==============================] - 2s 2ms/step - loss: 0.2328 - accuracy: 0.9061 - val_loss: 0.4330 - val_accuracy: 0.8676\n",
      "Epoch 43/100\n",
      "1022/1022 [==============================] - 2s 2ms/step - loss: 0.1939 - accuracy: 0.9080 - val_loss: 0.3983 - val_accuracy: 0.8676\n",
      "Epoch 44/100\n",
      "1022/1022 [==============================] - 2s 2ms/step - loss: 0.1726 - accuracy: 0.9168 - val_loss: 0.4765 - val_accuracy: 0.8767\n",
      "Epoch 45/100\n",
      "1022/1022 [==============================] - 2s 2ms/step - loss: 0.1875 - accuracy: 0.9227 - val_loss: 0.4420 - val_accuracy: 0.8676\n",
      "Epoch 46/100\n",
      "1022/1022 [==============================] - 2s 2ms/step - loss: 0.1730 - accuracy: 0.9335 - val_loss: 0.4476 - val_accuracy: 0.8858\n",
      "Epoch 47/100\n",
      "1022/1022 [==============================] - 2s 2ms/step - loss: 0.1957 - accuracy: 0.9188 - val_loss: 0.3950 - val_accuracy: 0.8630\n",
      "Epoch 48/100\n",
      "1022/1022 [==============================] - 2s 2ms/step - loss: 0.1631 - accuracy: 0.9198 - val_loss: 0.4812 - val_accuracy: 0.8630\n",
      "Epoch 49/100\n",
      "1022/1022 [==============================] - 2s 2ms/step - loss: 0.1658 - accuracy: 0.9256 - val_loss: 0.4198 - val_accuracy: 0.8767\n",
      "Epoch 50/100\n",
      "1022/1022 [==============================] - 2s 2ms/step - loss: 0.1708 - accuracy: 0.9335 - val_loss: 0.3946 - val_accuracy: 0.8676\n",
      "Epoch 51/100\n",
      "1022/1022 [==============================] - 2s 2ms/step - loss: 0.1655 - accuracy: 0.9315 - val_loss: 0.4465 - val_accuracy: 0.8676\n",
      "Epoch 52/100\n",
      "1022/1022 [==============================] - 2s 2ms/step - loss: 0.1673 - accuracy: 0.9149 - val_loss: 0.4562 - val_accuracy: 0.8493\n",
      "Epoch 53/100\n",
      "1022/1022 [==============================] - 2s 2ms/step - loss: 0.1573 - accuracy: 0.9344 - val_loss: 0.4283 - val_accuracy: 0.8858\n",
      "Epoch 54/100\n",
      "1022/1022 [==============================] - 2s 2ms/step - loss: 0.1621 - accuracy: 0.9295 - val_loss: 0.4690 - val_accuracy: 0.8767\n",
      "Epoch 55/100\n",
      "1022/1022 [==============================] - 2s 2ms/step - loss: 0.1804 - accuracy: 0.9237 - val_loss: 0.4873 - val_accuracy: 0.8630\n",
      "Epoch 56/100\n",
      "1022/1022 [==============================] - 2s 2ms/step - loss: 0.1748 - accuracy: 0.9256 - val_loss: 0.5054 - val_accuracy: 0.8721\n",
      "Epoch 57/100\n",
      "1022/1022 [==============================] - 2s 2ms/step - loss: 0.1561 - accuracy: 0.9305 - val_loss: 0.4423 - val_accuracy: 0.8630\n",
      "Epoch 58/100\n",
      "1022/1022 [==============================] - 2s 2ms/step - loss: 0.1495 - accuracy: 0.9315 - val_loss: 0.5404 - val_accuracy: 0.8676\n",
      "Epoch 59/100\n",
      "1022/1022 [==============================] - 2s 2ms/step - loss: 0.1626 - accuracy: 0.9344 - val_loss: 0.4647 - val_accuracy: 0.8584\n",
      "Epoch 60/100\n",
      "1022/1022 [==============================] - 2s 2ms/step - loss: 0.1536 - accuracy: 0.9384 - val_loss: 0.4740 - val_accuracy: 0.8584\n",
      "Epoch 61/100\n",
      "1022/1022 [==============================] - 2s 2ms/step - loss: 0.1689 - accuracy: 0.9325 - val_loss: 0.7720 - val_accuracy: 0.8539\n",
      "Epoch 62/100\n",
      "1022/1022 [==============================] - 2s 2ms/step - loss: 0.1688 - accuracy: 0.9364 - val_loss: 0.5503 - val_accuracy: 0.8630\n",
      "Epoch 63/100\n",
      "1022/1022 [==============================] - 2s 2ms/step - loss: 0.1514 - accuracy: 0.9247 - val_loss: 0.4405 - val_accuracy: 0.8630\n",
      "Epoch 64/100\n",
      "1022/1022 [==============================] - 2s 2ms/step - loss: 0.1676 - accuracy: 0.9325 - val_loss: 0.4651 - val_accuracy: 0.8584\n",
      "Epoch 65/100\n",
      "1022/1022 [==============================] - 2s 2ms/step - loss: 0.1459 - accuracy: 0.9364 - val_loss: 0.5288 - val_accuracy: 0.8584\n",
      "Epoch 66/100\n",
      "1022/1022 [==============================] - 2s 2ms/step - loss: 0.1406 - accuracy: 0.9354 - val_loss: 0.5821 - val_accuracy: 0.8721\n",
      "Epoch 67/100\n",
      "1022/1022 [==============================] - 2s 2ms/step - loss: 0.1377 - accuracy: 0.9423 - val_loss: 0.5077 - val_accuracy: 0.8721\n",
      "Epoch 68/100\n",
      "1022/1022 [==============================] - 2s 2ms/step - loss: 0.1479 - accuracy: 0.9413 - val_loss: 0.5388 - val_accuracy: 0.8584\n",
      "Epoch 69/100\n",
      "1022/1022 [==============================] - 2s 2ms/step - loss: 0.1539 - accuracy: 0.9286 - val_loss: 0.4673 - val_accuracy: 0.8539\n",
      "Epoch 70/100\n",
      "1022/1022 [==============================] - 2s 2ms/step - loss: 0.1461 - accuracy: 0.9276 - val_loss: 0.5529 - val_accuracy: 0.8721\n",
      "Epoch 71/100\n",
      "1022/1022 [==============================] - 2s 2ms/step - loss: 0.1461 - accuracy: 0.9286 - val_loss: 0.4992 - val_accuracy: 0.8858\n",
      "Epoch 72/100\n",
      "1022/1022 [==============================] - 2s 2ms/step - loss: 0.1364 - accuracy: 0.9384 - val_loss: 0.5927 - val_accuracy: 0.8630\n",
      "Epoch 73/100\n",
      "1022/1022 [==============================] - 2s 2ms/step - loss: 0.1396 - accuracy: 0.9393 - val_loss: 0.5728 - val_accuracy: 0.8630\n",
      "Epoch 74/100\n",
      "1022/1022 [==============================] - 2s 2ms/step - loss: 0.1318 - accuracy: 0.9393 - val_loss: 0.7076 - val_accuracy: 0.8539\n",
      "Epoch 75/100\n",
      "1022/1022 [==============================] - 2s 2ms/step - loss: 0.1302 - accuracy: 0.9442 - val_loss: 0.6356 - val_accuracy: 0.8447\n",
      "Epoch 76/100\n",
      "1022/1022 [==============================] - 2s 2ms/step - loss: 0.1244 - accuracy: 0.9481 - val_loss: 0.6558 - val_accuracy: 0.8630\n",
      "Epoch 77/100\n",
      "1022/1022 [==============================] - 2s 2ms/step - loss: 0.1324 - accuracy: 0.9462 - val_loss: 0.5736 - val_accuracy: 0.8676\n",
      "Epoch 78/100\n",
      "1022/1022 [==============================] - 2s 2ms/step - loss: 0.1526 - accuracy: 0.9354 - val_loss: 0.5341 - val_accuracy: 0.8539\n",
      "Epoch 79/100\n",
      "1022/1022 [==============================] - 2s 2ms/step - loss: 0.1371 - accuracy: 0.9374 - val_loss: 0.5547 - val_accuracy: 0.8539\n",
      "Epoch 80/100\n",
      "1022/1022 [==============================] - 2s 2ms/step - loss: 0.1400 - accuracy: 0.9344 - val_loss: 0.6004 - val_accuracy: 0.8447\n",
      "Epoch 81/100\n",
      "1022/1022 [==============================] - 2s 2ms/step - loss: 0.1901 - accuracy: 0.9129 - val_loss: 0.4170 - val_accuracy: 0.8584\n",
      "Epoch 82/100\n",
      "1022/1022 [==============================] - 2s 2ms/step - loss: 0.1669 - accuracy: 0.9227 - val_loss: 0.4715 - val_accuracy: 0.8493\n",
      "Epoch 83/100\n",
      "1022/1022 [==============================] - 2s 2ms/step - loss: 0.1574 - accuracy: 0.9393 - val_loss: 0.5541 - val_accuracy: 0.8584\n",
      "Epoch 84/100\n",
      "1022/1022 [==============================] - 2s 2ms/step - loss: 0.1258 - accuracy: 0.9462 - val_loss: 0.7381 - val_accuracy: 0.8493\n",
      "Epoch 85/100\n",
      "1022/1022 [==============================] - 2s 2ms/step - loss: 0.1545 - accuracy: 0.9305 - val_loss: 0.4580 - val_accuracy: 0.8493\n",
      "Epoch 86/100\n",
      "1022/1022 [==============================] - 2s 2ms/step - loss: 0.1495 - accuracy: 0.9344 - val_loss: 0.4929 - val_accuracy: 0.8630\n",
      "Epoch 87/100\n",
      "1022/1022 [==============================] - 2s 2ms/step - loss: 0.1204 - accuracy: 0.9442 - val_loss: 0.6242 - val_accuracy: 0.8402\n",
      "Epoch 88/100\n",
      "1022/1022 [==============================] - 2s 2ms/step - loss: 0.1814 - accuracy: 0.9364 - val_loss: 0.4541 - val_accuracy: 0.8630\n",
      "Epoch 89/100\n",
      "1022/1022 [==============================] - 2s 2ms/step - loss: 0.1306 - accuracy: 0.9393 - val_loss: 0.7380 - val_accuracy: 0.8402\n",
      "Epoch 90/100\n",
      "1022/1022 [==============================] - 2s 2ms/step - loss: 0.1072 - accuracy: 0.9511 - val_loss: 0.6217 - val_accuracy: 0.8493\n",
      "Epoch 91/100\n",
      "1022/1022 [==============================] - 2s 2ms/step - loss: 0.1207 - accuracy: 0.9491 - val_loss: 0.6203 - val_accuracy: 0.8630\n",
      "Epoch 92/100\n",
      "1022/1022 [==============================] - 2s 2ms/step - loss: 0.1096 - accuracy: 0.9540 - val_loss: 0.6193 - val_accuracy: 0.8676\n",
      "Epoch 93/100\n",
      "1022/1022 [==============================] - 2s 2ms/step - loss: 0.1134 - accuracy: 0.9530 - val_loss: 0.6539 - val_accuracy: 0.8584\n",
      "Epoch 94/100\n",
      "1022/1022 [==============================] - 2s 2ms/step - loss: 0.1320 - accuracy: 0.9452 - val_loss: 0.5831 - val_accuracy: 0.8447\n",
      "Epoch 95/100\n",
      "1022/1022 [==============================] - 2s 2ms/step - loss: 0.1675 - accuracy: 0.9256 - val_loss: 0.6234 - val_accuracy: 0.8539\n",
      "Epoch 96/100\n",
      "1022/1022 [==============================] - 2s 2ms/step - loss: 0.1279 - accuracy: 0.9423 - val_loss: 0.5787 - val_accuracy: 0.8813\n",
      "Epoch 97/100\n",
      "1022/1022 [==============================] - 2s 2ms/step - loss: 0.1142 - accuracy: 0.9550 - val_loss: 0.7435 - val_accuracy: 0.8813\n",
      "Epoch 98/100\n",
      "1022/1022 [==============================] - 2s 2ms/step - loss: 0.1026 - accuracy: 0.9560 - val_loss: 0.7208 - val_accuracy: 0.8402\n",
      "Epoch 99/100\n",
      "1022/1022 [==============================] - 2s 2ms/step - loss: 0.0985 - accuracy: 0.9540 - val_loss: 0.7844 - val_accuracy: 0.8584\n",
      "Epoch 100/100\n",
      "1022/1022 [==============================] - 2s 2ms/step - loss: 0.1010 - accuracy: 0.9618 - val_loss: 0.6575 - val_accuracy: 0.8584\n"
     ]
    }
   ],
   "source": [
    "model_huge = Sequential([\n",
    "    Dense(1000, activation='relu', input_shape=(10,)),\n",
    "    Dense(1000, activation='relu'),\n",
    "    Dense(1000, activation='relu'),\n",
    "    Dense(1000, activation='relu'),\n",
    "    Dense(1, activation='sigmoid'),\n",
    "])\n",
    "\n",
    "model_huge.compile(optimizer='adam',\n",
    "               loss='binary_crossentropy',\n",
    "               metrics=['accuracy'])\n",
    "\n",
    "hist_huge = model_huge.fit(X_train, Y_train,\n",
    "                       batch_size=32, epochs=100,\n",
    "                       validation_data=(X_val, Y_val))"
   ]
  },
  {
   "cell_type": "code",
   "execution_count": 18,
   "metadata": {},
   "outputs": [
    {
     "name": "stdout",
     "output_type": "stream",
     "text": [
      "219/219 [==============================] - 0s 201us/step\n"
     ]
    },
    {
     "data": {
      "text/plain": [
       "0.853881299495697"
      ]
     },
     "execution_count": 18,
     "metadata": {},
     "output_type": "execute_result"
    }
   ],
   "source": [
    "model_huge.evaluate(X_test, Y_test)[1]"
   ]
  },
  {
   "cell_type": "code",
   "execution_count": 21,
   "metadata": {},
   "outputs": [
    {
     "data": {
      "image/png": "[encoded data removed]",
      "text/plain": [
       "<Figure size 432x288 with 1 Axes>"
      ]
     },
     "metadata": {
      "needs_background": "light"
     },
     "output_type": "display_data"
    }
   ],
   "source": [
    "show_loss_plot(hist_huge)"
   ]
  },
  {
   "cell_type": "code",
   "execution_count": 23,
   "metadata": {},
   "outputs": [
    {
     "data": {
      "image/png": "[encoded data removed]",
      "text/plain": [
       "<Figure size 432x288 with 1 Axes>"
      ]
     },
     "metadata": {
      "needs_background": "light"
     },
     "output_type": "display_data"
    }
   ],
   "source": [
    "show_acc_plot(hist_huge)"
   ]
  },
  {
   "cell_type": "code",
   "execution_count": 27,
   "metadata": {},
   "outputs": [],
   "source": [
    "from keras.layers import Dropout\n",
    "from keras import regularizers\n",
    "\n",
    "model_regular = Sequential([\n",
    "    Dense(1000, activation='relu', kernel_regularizer=regularizers.l2(0.01), input_shape=(10,)),\n",
    "    Dropout(0.3),\n",
    "    Dense(1000, activation='relu', kernel_regularizer=regularizers.l2(0.01)),\n",
    "    Dropout(0.3),\n",
    "    Dense(1000, activation='relu', kernel_regularizer=regularizers.l2(0.01)),\n",
    "    Dropout(0.3),\n",
    "    Dense(1000, activation='relu', kernel_regularizer=regularizers.l2(0.01)),\n",
    "    Dropout(0.3),\n",
    "    Dense(1, activation='sigmoid', kernel_regularizer=regularizers.l2(0.01)),\n",
    "])"
   ]
  },
  {
   "cell_type": "code",
   "execution_count": 28,
   "metadata": {},
   "outputs": [
    {
     "name": "stdout",
     "output_type": "stream",
     "text": [
      "Train on 1022 samples, validate on 219 samples\n",
      "Epoch 1/100\n",
      "1022/1022 [==============================] - 3s 3ms/step - loss: 14.2312 - accuracy: 0.5920 - val_loss: 3.9018 - val_accuracy: 0.8311\n",
      "Epoch 2/100\n",
      "1022/1022 [==============================] - 2s 2ms/step - loss: 1.6703 - accuracy: 0.8288 - val_loss: 0.7544 - val_accuracy: 0.7945\n",
      "Epoch 3/100\n",
      "1022/1022 [==============================] - 2s 2ms/step - loss: 0.5551 - accuracy: 0.8738 - val_loss: 0.5396 - val_accuracy: 0.8676\n",
      "Epoch 4/100\n",
      "1022/1022 [==============================] - 3s 2ms/step - loss: 0.5144 - accuracy: 0.8669 - val_loss: 0.5688 - val_accuracy: 0.8311\n",
      "Epoch 5/100\n",
      "1022/1022 [==============================] - 3s 3ms/step - loss: 0.5005 - accuracy: 0.8708 - val_loss: 0.5271 - val_accuracy: 0.8630\n",
      "Epoch 6/100\n",
      "1022/1022 [==============================] - 2s 2ms/step - loss: 0.4752 - accuracy: 0.8767 - val_loss: 0.5130 - val_accuracy: 0.8676\n",
      "Epoch 7/100\n",
      "1022/1022 [==============================] - 3s 3ms/step - loss: 0.4503 - accuracy: 0.8933 - val_loss: 0.5389 - val_accuracy: 0.8584\n",
      "Epoch 8/100\n",
      "1022/1022 [==============================] - 3s 2ms/step - loss: 0.4754 - accuracy: 0.8738 - val_loss: 0.5060 - val_accuracy: 0.8721\n",
      "Epoch 9/100\n",
      "1022/1022 [==============================] - 3s 3ms/step - loss: 0.4730 - accuracy: 0.8767 - val_loss: 0.5451 - val_accuracy: 0.8265\n",
      "Epoch 10/100\n",
      "1022/1022 [==============================] - 2s 2ms/step - loss: 0.4655 - accuracy: 0.8796 - val_loss: 0.4914 - val_accuracy: 0.8676\n",
      "Epoch 11/100\n",
      "1022/1022 [==============================] - 2s 2ms/step - loss: 0.4493 - accuracy: 0.8796 - val_loss: 0.5605 - val_accuracy: 0.8311\n",
      "Epoch 12/100\n",
      "1022/1022 [==============================] - 2s 2ms/step - loss: 0.4496 - accuracy: 0.8777 - val_loss: 0.4930 - val_accuracy: 0.8676\n",
      "Epoch 13/100\n",
      "1022/1022 [==============================] - 2s 2ms/step - loss: 0.4400 - accuracy: 0.8885 - val_loss: 0.4862 - val_accuracy: 0.8676\n",
      "Epoch 14/100\n",
      "1022/1022 [==============================] - 2s 2ms/step - loss: 0.4284 - accuracy: 0.8904 - val_loss: 0.4877 - val_accuracy: 0.8676\n",
      "Epoch 15/100\n",
      "1022/1022 [==============================] - 2s 2ms/step - loss: 0.4410 - accuracy: 0.8885 - val_loss: 0.4873 - val_accuracy: 0.8630\n",
      "Epoch 16/100\n",
      "1022/1022 [==============================] - 2s 2ms/step - loss: 0.4318 - accuracy: 0.8894 - val_loss: 0.4953 - val_accuracy: 0.8858\n",
      "Epoch 17/100\n",
      "1022/1022 [==============================] - 2s 2ms/step - loss: 0.4411 - accuracy: 0.8816 - val_loss: 0.4951 - val_accuracy: 0.8676\n",
      "Epoch 18/100\n",
      "1022/1022 [==============================] - 2s 2ms/step - loss: 0.4309 - accuracy: 0.8816 - val_loss: 0.4818 - val_accuracy: 0.8721\n",
      "Epoch 19/100\n",
      "1022/1022 [==============================] - 3s 3ms/step - loss: 0.4172 - accuracy: 0.8885 - val_loss: 0.5170 - val_accuracy: 0.8539\n",
      "Epoch 20/100\n",
      "1022/1022 [==============================] - 3s 2ms/step - loss: 0.4494 - accuracy: 0.8845 - val_loss: 0.4947 - val_accuracy: 0.8676\n",
      "Epoch 21/100\n",
      "1022/1022 [==============================] - 3s 2ms/step - loss: 0.4310 - accuracy: 0.8914 - val_loss: 0.4862 - val_accuracy: 0.8630\n",
      "Epoch 22/100\n",
      "1022/1022 [==============================] - 2s 2ms/step - loss: 0.4286 - accuracy: 0.8875 - val_loss: 0.4884 - val_accuracy: 0.8630\n",
      "Epoch 23/100\n",
      "1022/1022 [==============================] - 2s 2ms/step - loss: 0.4321 - accuracy: 0.8845 - val_loss: 0.4890 - val_accuracy: 0.8630\n",
      "Epoch 24/100\n",
      "1022/1022 [==============================] - 2s 2ms/step - loss: 0.4233 - accuracy: 0.8865 - val_loss: 0.4961 - val_accuracy: 0.8676\n",
      "Epoch 25/100\n",
      "1022/1022 [==============================] - 2s 2ms/step - loss: 0.4364 - accuracy: 0.8806 - val_loss: 0.5047 - val_accuracy: 0.8539\n",
      "Epoch 26/100\n",
      "1022/1022 [==============================] - 2s 2ms/step - loss: 0.4308 - accuracy: 0.8914 - val_loss: 0.5458 - val_accuracy: 0.8311\n",
      "Epoch 27/100\n",
      "1022/1022 [==============================] - 2s 2ms/step - loss: 0.4120 - accuracy: 0.8992 - val_loss: 0.4780 - val_accuracy: 0.8676\n",
      "Epoch 28/100\n",
      "1022/1022 [==============================] - 3s 2ms/step - loss: 0.4338 - accuracy: 0.8738 - val_loss: 0.5969 - val_accuracy: 0.8356\n",
      "Epoch 29/100\n",
      "1022/1022 [==============================] - 2s 2ms/step - loss: 0.4316 - accuracy: 0.8865 - val_loss: 0.4874 - val_accuracy: 0.8676\n",
      "Epoch 30/100\n",
      "1022/1022 [==============================] - 2s 2ms/step - loss: 0.4328 - accuracy: 0.8875 - val_loss: 0.4780 - val_accuracy: 0.8676\n",
      "Epoch 31/100\n",
      "1022/1022 [==============================] - 2s 2ms/step - loss: 0.4242 - accuracy: 0.8845 - val_loss: 0.4928 - val_accuracy: 0.8630\n",
      "Epoch 32/100\n",
      "1022/1022 [==============================] - 2s 2ms/step - loss: 0.4246 - accuracy: 0.8904 - val_loss: 0.6018 - val_accuracy: 0.8356\n",
      "Epoch 33/100\n",
      "1022/1022 [==============================] - 2s 2ms/step - loss: 0.4398 - accuracy: 0.8894 - val_loss: 0.4897 - val_accuracy: 0.8721\n",
      "Epoch 34/100\n",
      "1022/1022 [==============================] - 2s 2ms/step - loss: 0.4186 - accuracy: 0.8953 - val_loss: 0.4892 - val_accuracy: 0.8630\n",
      "Epoch 35/100\n",
      "1022/1022 [==============================] - 2s 2ms/step - loss: 0.4394 - accuracy: 0.8865 - val_loss: 0.5345 - val_accuracy: 0.8311\n",
      "Epoch 36/100\n",
      "1022/1022 [==============================] - 2s 2ms/step - loss: 0.4234 - accuracy: 0.8826 - val_loss: 0.4999 - val_accuracy: 0.8721\n",
      "Epoch 37/100\n",
      "1022/1022 [==============================] - 2s 2ms/step - loss: 0.4175 - accuracy: 0.8885 - val_loss: 0.5225 - val_accuracy: 0.8584\n",
      "Epoch 38/100\n",
      "1022/1022 [==============================] - 2s 2ms/step - loss: 0.4076 - accuracy: 0.9022 - val_loss: 0.5055 - val_accuracy: 0.8539\n",
      "Epoch 39/100\n",
      "1022/1022 [==============================] - 2s 2ms/step - loss: 0.4505 - accuracy: 0.8777 - val_loss: 0.4875 - val_accuracy: 0.8721\n",
      "Epoch 40/100\n",
      "1022/1022 [==============================] - 2s 2ms/step - loss: 0.4147 - accuracy: 0.8973 - val_loss: 0.4769 - val_accuracy: 0.8721\n",
      "Epoch 41/100\n",
      "1022/1022 [==============================] - 2s 2ms/step - loss: 0.4297 - accuracy: 0.8885 - val_loss: 0.4782 - val_accuracy: 0.8813\n",
      "Epoch 42/100\n",
      "1022/1022 [==============================] - 2s 2ms/step - loss: 0.4337 - accuracy: 0.8816 - val_loss: 0.5375 - val_accuracy: 0.8402\n",
      "Epoch 43/100\n",
      "1022/1022 [==============================] - 3s 2ms/step - loss: 0.4499 - accuracy: 0.8699 - val_loss: 0.5372 - val_accuracy: 0.8402\n",
      "Epoch 44/100\n",
      "1022/1022 [==============================] - 3s 2ms/step - loss: 0.4218 - accuracy: 0.8885 - val_loss: 0.4766 - val_accuracy: 0.8813\n",
      "Epoch 45/100\n",
      "1022/1022 [==============================] - 2s 2ms/step - loss: 0.4209 - accuracy: 0.8982 - val_loss: 0.4759 - val_accuracy: 0.8767\n",
      "Epoch 46/100\n",
      "1022/1022 [==============================] - 2s 2ms/step - loss: 0.4231 - accuracy: 0.8767 - val_loss: 0.4939 - val_accuracy: 0.8676\n",
      "Epoch 47/100\n",
      "1022/1022 [==============================] - 2s 2ms/step - loss: 0.4273 - accuracy: 0.8865 - val_loss: 0.5283 - val_accuracy: 0.8402\n",
      "Epoch 48/100\n",
      "1022/1022 [==============================] - 3s 3ms/step - loss: 0.4150 - accuracy: 0.8982 - val_loss: 0.4739 - val_accuracy: 0.8721\n",
      "Epoch 49/100\n",
      "1022/1022 [==============================] - 3s 3ms/step - loss: 0.4212 - accuracy: 0.8943 - val_loss: 0.4745 - val_accuracy: 0.8721\n",
      "Epoch 50/100\n",
      "1022/1022 [==============================] - 3s 2ms/step - loss: 0.4064 - accuracy: 0.8933 - val_loss: 0.4775 - val_accuracy: 0.8813\n",
      "Epoch 51/100\n",
      "1022/1022 [==============================] - 3s 3ms/step - loss: 0.4189 - accuracy: 0.8845 - val_loss: 0.4899 - val_accuracy: 0.8813 0.4154 - accu\n",
      "Epoch 52/100\n",
      "1022/1022 [==============================] - 2s 2ms/step - loss: 0.4085 - accuracy: 0.8933 - val_loss: 0.4960 - val_accuracy: 0.8813\n",
      "Epoch 53/100\n",
      "1022/1022 [==============================] - 3s 3ms/step - loss: 0.4096 - accuracy: 0.8933 - val_loss: 0.4839 - val_accuracy: 0.8858\n",
      "Epoch 54/100\n",
      "1022/1022 [==============================] - 2s 2ms/step - loss: 0.4027 - accuracy: 0.9022 - val_loss: 0.4940 - val_accuracy: 0.8813\n",
      "Epoch 55/100\n",
      "1022/1022 [==============================] - 3s 2ms/step - loss: 0.4202 - accuracy: 0.8865 - val_loss: 0.4961 - val_accuracy: 0.8721\n",
      "Epoch 56/100\n",
      "1022/1022 [==============================] - 2s 2ms/step - loss: 0.4106 - accuracy: 0.9022 - val_loss: 0.5563 - val_accuracy: 0.8356\n"
     ]
    },
    {
     "name": "stdout",
     "output_type": "stream",
     "text": [
      "Epoch 57/100\n",
      "1022/1022 [==============================] - 2s 2ms/step - loss: 0.4232 - accuracy: 0.8924 - val_loss: 0.5160 - val_accuracy: 0.8539\n",
      "Epoch 58/100\n",
      "1022/1022 [==============================] - 3s 3ms/step - loss: 0.4161 - accuracy: 0.8904 - val_loss: 0.4800 - val_accuracy: 0.8813\n",
      "Epoch 59/100\n",
      "1022/1022 [==============================] - 2s 2ms/step - loss: 0.4088 - accuracy: 0.8875 - val_loss: 0.4871 - val_accuracy: 0.8813\n",
      "Epoch 60/100\n",
      "1022/1022 [==============================] - 2s 2ms/step - loss: 0.4120 - accuracy: 0.8904 - val_loss: 0.5431 - val_accuracy: 0.8356\n",
      "Epoch 61/100\n",
      "1022/1022 [==============================] - 3s 3ms/step - loss: 0.4159 - accuracy: 0.8953 - val_loss: 0.4846 - val_accuracy: 0.8721\n",
      "Epoch 62/100\n",
      "1022/1022 [==============================] - 3s 3ms/step - loss: 0.4130 - accuracy: 0.8933 - val_loss: 0.5430 - val_accuracy: 0.8356\n",
      "Epoch 63/100\n",
      "1022/1022 [==============================] - 3s 3ms/step - loss: 0.4153 - accuracy: 0.8904 - val_loss: 0.4883 - val_accuracy: 0.8813\n",
      "Epoch 64/100\n",
      "1022/1022 [==============================] - 2s 2ms/step - loss: 0.4112 - accuracy: 0.8924 - val_loss: 0.5057 - val_accuracy: 0.8539\n",
      "Epoch 65/100\n",
      "1022/1022 [==============================] - 2s 2ms/step - loss: 0.4323 - accuracy: 0.8865 - val_loss: 0.4867 - val_accuracy: 0.8676\n",
      "Epoch 66/100\n",
      "1022/1022 [==============================] - 2s 2ms/step - loss: 0.4203 - accuracy: 0.8924 - val_loss: 0.4879 - val_accuracy: 0.8721\n",
      "Epoch 67/100\n",
      "1022/1022 [==============================] - 3s 3ms/step - loss: 0.4075 - accuracy: 0.8914 - val_loss: 0.4806 - val_accuracy: 0.8721\n",
      "Epoch 68/100\n",
      "1022/1022 [==============================] - 3s 3ms/step - loss: 0.4132 - accuracy: 0.8885 - val_loss: 0.4808 - val_accuracy: 0.8721\n",
      "Epoch 69/100\n",
      "1022/1022 [==============================] - 3s 3ms/step - loss: 0.4160 - accuracy: 0.8992 - val_loss: 0.4776 - val_accuracy: 0.8767\n",
      "Epoch 70/100\n",
      "1022/1022 [==============================] - 3s 3ms/step - loss: 0.4164 - accuracy: 0.8894 - val_loss: 0.4772 - val_accuracy: 0.8767\n",
      "Epoch 71/100\n",
      "1022/1022 [==============================] - 2s 2ms/step - loss: 0.4221 - accuracy: 0.8885 - val_loss: 0.5088 - val_accuracy: 0.8493\n",
      "Epoch 72/100\n",
      "1022/1022 [==============================] - 3s 3ms/step - loss: 0.4921 - accuracy: 0.8562 - val_loss: 0.5444 - val_accuracy: 0.8447\n",
      "Epoch 73/100\n",
      "1022/1022 [==============================] - 3s 3ms/step - loss: 0.4351 - accuracy: 0.8904 - val_loss: 0.4806 - val_accuracy: 0.8676\n",
      "Epoch 74/100\n",
      "1022/1022 [==============================] - 3s 3ms/step - loss: 0.4332 - accuracy: 0.8748 - val_loss: 0.5093 - val_accuracy: 0.8584\n",
      "Epoch 75/100\n",
      "1022/1022 [==============================] - 2s 2ms/step - loss: 0.4139 - accuracy: 0.9012 - val_loss: 0.4835 - val_accuracy: 0.8767\n",
      "Epoch 76/100\n",
      "1022/1022 [==============================] - 2s 2ms/step - loss: 0.4144 - accuracy: 0.8982 - val_loss: 0.4766 - val_accuracy: 0.8767\n",
      "Epoch 77/100\n",
      "1022/1022 [==============================] - 2s 2ms/step - loss: 0.4105 - accuracy: 0.8924 - val_loss: 0.4845 - val_accuracy: 0.8813\n",
      "Epoch 78/100\n",
      "1022/1022 [==============================] - 2s 2ms/step - loss: 0.4250 - accuracy: 0.8885 - val_loss: 0.4855 - val_accuracy: 0.8630\n",
      "Epoch 79/100\n",
      "1022/1022 [==============================] - 3s 3ms/step - loss: 0.4184 - accuracy: 0.8924 - val_loss: 0.5215 - val_accuracy: 0.8539\n",
      "Epoch 80/100\n",
      "1022/1022 [==============================] - 3s 3ms/step - loss: 0.4001 - accuracy: 0.8933 - val_loss: 0.4983 - val_accuracy: 0.8584\n",
      "Epoch 81/100\n",
      "1022/1022 [==============================] - 3s 3ms/step - loss: 0.4105 - accuracy: 0.8904 - val_loss: 0.4905 - val_accuracy: 0.8721\n",
      "Epoch 82/100\n",
      "1022/1022 [==============================] - 3s 3ms/step - loss: 0.4292 - accuracy: 0.8845 - val_loss: 0.5977 - val_accuracy: 0.8402\n",
      "Epoch 83/100\n",
      "1022/1022 [==============================] - 2s 2ms/step - loss: 0.4318 - accuracy: 0.8806 - val_loss: 0.4863 - val_accuracy: 0.8721\n",
      "Epoch 84/100\n",
      "1022/1022 [==============================] - 3s 3ms/step - loss: 0.4191 - accuracy: 0.8865 - val_loss: 0.4805 - val_accuracy: 0.8767\n",
      "Epoch 85/100\n",
      "1022/1022 [==============================] - 3s 2ms/step - loss: 0.4130 - accuracy: 0.8973 - val_loss: 0.4786 - val_accuracy: 0.8721\n",
      "Epoch 86/100\n",
      "1022/1022 [==============================] - 3s 3ms/step - loss: 0.4071 - accuracy: 0.8992 - val_loss: 0.5503 - val_accuracy: 0.8311\n",
      "Epoch 87/100\n",
      "1022/1022 [==============================] - 3s 3ms/step - loss: 0.4151 - accuracy: 0.8914 - val_loss: 0.4948 - val_accuracy: 0.8721\n",
      "Epoch 88/100\n",
      "1022/1022 [==============================] - 3s 3ms/step - loss: 0.4131 - accuracy: 0.8894 - val_loss: 0.4915 - val_accuracy: 0.8630\n",
      "Epoch 89/100\n",
      "1022/1022 [==============================] - 3s 2ms/step - loss: 0.4176 - accuracy: 0.8836 - val_loss: 0.4981 - val_accuracy: 0.8676\n",
      "Epoch 90/100\n",
      "1022/1022 [==============================] - 3s 3ms/step - loss: 0.4108 - accuracy: 0.9022 - val_loss: 0.4825 - val_accuracy: 0.8721\n",
      "Epoch 91/100\n",
      "1022/1022 [==============================] - 3s 3ms/step - loss: 0.4198 - accuracy: 0.8924 - val_loss: 0.4763 - val_accuracy: 0.8721\n",
      "Epoch 92/100\n",
      "1022/1022 [==============================] - 3s 3ms/step - loss: 0.4322 - accuracy: 0.8806 - val_loss: 0.4789 - val_accuracy: 0.8721\n",
      "Epoch 93/100\n",
      "1022/1022 [==============================] - 3s 3ms/step - loss: 0.4092 - accuracy: 0.9041 - val_loss: 0.4867 - val_accuracy: 0.8630\n",
      "Epoch 94/100\n",
      "1022/1022 [==============================] - 2s 2ms/step - loss: 0.4168 - accuracy: 0.8933 - val_loss: 0.4796 - val_accuracy: 0.8767\n",
      "Epoch 95/100\n",
      "1022/1022 [==============================] - 2s 2ms/step - loss: 0.4138 - accuracy: 0.8894 - val_loss: 0.5039 - val_accuracy: 0.8584\n",
      "Epoch 96/100\n",
      "1022/1022 [==============================] - 2s 2ms/step - loss: 0.4309 - accuracy: 0.8885 - val_loss: 0.4923 - val_accuracy: 0.8676\n",
      "Epoch 97/100\n",
      "1022/1022 [==============================] - 2s 2ms/step - loss: 0.4122 - accuracy: 0.8973 - val_loss: 0.4997 - val_accuracy: 0.8584\n",
      "Epoch 98/100\n",
      "1022/1022 [==============================] - 2s 2ms/step - loss: 0.4334 - accuracy: 0.8914 - val_loss: 0.5161 - val_accuracy: 0.8584\n",
      "Epoch 99/100\n",
      "1022/1022 [==============================] - 2s 2ms/step - loss: 0.4211 - accuracy: 0.8914 - val_loss: 0.4942 - val_accuracy: 0.8676\n",
      "Epoch 100/100\n",
      "1022/1022 [==============================] - 3s 3ms/step - loss: 0.4178 - accuracy: 0.8875 - val_loss: 0.4769 - val_accuracy: 0.8767\n"
     ]
    }
   ],
   "source": [
    "model_regular.compile(optimizer='adam',\n",
    "                     loss='binary_crossentropy',\n",
    "                     metrics=['accuracy'])\n",
    "\n",
    "hist_regular = model_regular.fit(X_train, Y_train,\n",
    "                                batch_size=32, epochs=100,\n",
    "                                validation_data=(X_val, Y_val))"
   ]
  },
  {
   "cell_type": "code",
   "execution_count": 34,
   "metadata": {},
   "outputs": [
    {
     "name": "stdout",
     "output_type": "stream",
     "text": [
      "219/219 [==============================] - 0s 374us/step\n"
     ]
    },
    {
     "data": {
      "text/plain": [
       "0.8675799369812012"
      ]
     },
     "execution_count": 34,
     "metadata": {},
     "output_type": "execute_result"
    }
   ],
   "source": [
    "model_regular.evaluate(X_test, Y_test)[1]"
   ]
  },
  {
   "cell_type": "code",
   "execution_count": 36,
   "metadata": {},
   "outputs": [
    {
     "data": {
      "image/png": "[encoded data removed]",
      "text/plain": [
       "<Figure size 432x288 with 1 Axes>"
      ]
     },
     "metadata": {
      "needs_background": "light"
     },
     "output_type": "display_data"
    }
   ],
   "source": [
    "show_loss_plot(hist_regular)"
   ]
  },
  {
   "cell_type": "code",
   "execution_count": 32,
   "metadata": {},
   "outputs": [
    {
     "data": {
      "image/png": "[encoded data removed]",
      "text/plain": [
       "<Figure size 432x288 with 1 Axes>"
      ]
     },
     "metadata": {
      "needs_background": "light"
     },
     "output_type": "display_data"
    }
   ],
   "source": [
    "show_acc_plot(hist_regular)"
   ]
  }
 ],
 "metadata": {
  "kernelspec": {
   "display_name": "Python 3",
   "language": "python",
   "name": "python3"
  },
  "language_info": {
   "codemirror_mode": {
    "name": "ipython",
    "version": 3
   },
   "file_extension": ".py",
   "mimetype": "text/x-python",
   "name": "python",
   "nbconvert_exporter": "python",
   "pygments_lexer": "ipython3",
   "version": "3.7.6"
  }
 },
 "nbformat": 4,
 "nbformat_minor": 2
}
